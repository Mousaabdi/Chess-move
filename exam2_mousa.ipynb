{
  "nbformat": 4,
  "nbformat_minor": 0,
  "metadata": {
    "colab": {
      "name": "exam2_mousa.ipynb",
      "provenance": [],
      "authorship_tag": "ABX9TyPo68pqp+WvMB/R7525+SFM",
      "include_colab_link": true
    },
    "kernelspec": {
      "name": "python3",
      "display_name": "Python 3"
    }
  },
  "cells": [
    {
      "cell_type": "markdown",
      "metadata": {
        "id": "view-in-github",
        "colab_type": "text"
      },
      "source": [
        "<a href=\"https://colab.research.google.com/github/Mousaabdi/Chess-move/blob/main/exam2_mousa.ipynb\" target=\"_parent\"><img src=\"https://colab.research.google.com/assets/colab-badge.svg\" alt=\"Open In Colab\"/></a>"
      ]
    },
    {
      "cell_type": "code",
      "metadata": {
        "id": "VsWrmfSx0g8R"
      },
      "source": [
        "import numpy as np\n",
        "import copy\n",
        "##Define empty grid (any size is okay)\n",
        "grid=[[0,0,0,0,0,0,0,0],\n",
        "      [0,0,0,0,0,0,0,0],\n",
        "      [0,0,0,0,0,0,0,0],\n",
        "      [0,0,0,0,0,0,0,0],\n",
        "      [0,0,0,0,0,0,0,0],\n",
        "      [0,0,0,0,0,0,0,0],\n",
        "      [0,0,0,0,0,0,0,0],\n",
        "      [0,0,0,0,0,0,0,0]]\n",
        "#or\n",
        "N=8\n",
        "grid=np.zeros([N,N],dtype=int)\n",
        "grid=grid.tolist()"
      ],
      "execution_count": null,
      "outputs": []
    },
    {
      "cell_type": "code",
      "metadata": {
        "id": "weGUGUBM4g8s"
      },
      "source": [
        "def possible(grid,y,x): #is it possible to place a queen into y,x?\n",
        "\n",
        "    l=len(grid) #how big is our grid?\n",
        "    \n",
        "    for i in range(l): #check for queens on row y\n",
        "        if grid[y][i]==1: #if exist return false\n",
        "            return False\n",
        "    for i in range(l):  #check for queens on column x\n",
        "        if grid[i][x]==1: #if exists return 0\n",
        "            return False\n",
        "        \n",
        "    for i in range(l): #loop through all rows\n",
        "        for j in range(l): #and columns\n",
        "            if grid[i][j]==1: #if there is a queen\n",
        "                if abs(i - y) == abs(j - x): #and if there is another on a diagonal\n",
        "                    return False #return false\n",
        "    return True #if every check clears, we can return true"
      ],
      "execution_count": null,
      "outputs": []
    },
    {
      "cell_type": "code",
      "metadata": {
        "id": "XP1CuoL64qP5"
      },
      "source": [
        "def solve(grid):\n",
        "    \n",
        "    l=len(grid) #length of our grid  \n",
        "    \n",
        "    for y in range(l): #for every row\n",
        "        for x in range(l): #for every column\n",
        "            if grid[y][x]==0: # we can place if there is no queen in given position\n",
        "                if possible(grid,y,x): #if empty, check if we can place a queen\n",
        "                    grid[y][x]=1 #if we can, then place it\n",
        "                    solve(grid) #pass grid for recursive solution\n",
        "                    #if we end up here, means we searched through all children branches\n",
        "                    if sum(sum(a) for a in grid)==l: #if there are 8 queens\n",
        "                        return grid #we are successful so return\n",
        "                    grid[y][x]=0 #remove the previous placed queen\n",
        "\n",
        "\n",
        "    return grid #means we searched the space, we can return our result"
      ],
      "execution_count": null,
      "outputs": []
    },
    {
      "cell_type": "code",
      "metadata": {
        "colab": {
          "base_uri": "https://localhost:8080/"
        },
        "id": "S_A70koT4sew",
        "outputId": "a1302a6c-03e0-4b8e-bb24-00058c67614f"
      },
      "source": [
        "Solution = solve(copy.deepcopy(grid)) #get the solution\n",
        "print(np.matrix(Solution)) #Print the solution"
      ],
      "execution_count": null,
      "outputs": [
        {
          "output_type": "stream",
          "name": "stdout",
          "text": [
            "[[1 0 0 0 0 0 0 0]\n",
            " [0 0 0 0 1 0 0 0]\n",
            " [0 0 0 0 0 0 0 1]\n",
            " [0 0 0 0 0 1 0 0]\n",
            " [0 0 1 0 0 0 0 0]\n",
            " [0 0 0 0 0 0 1 0]\n",
            " [0 1 0 0 0 0 0 0]\n",
            " [0 0 0 1 0 0 0 0]]\n"
          ]
        }
      ]
    },
    {
      "cell_type": "code",
      "metadata": {
        "id": "Xf8GWKd547DI"
      },
      "source": [
        "def plot(grid):# Plot the solution on a chessboard\n",
        "    import seaborn as sns\n",
        "    import matplotlib.pyplot as plt\n",
        "    import string\n",
        "    \n",
        "    l=len(grid)\n",
        "    Ly=list(range(1,l+1))[::-1]\n",
        "    ly = [str(i) for i in Ly]\n",
        "    Lx=list(string.ascii_uppercase)\n",
        "    lx=Lx[:l]\n",
        "    \n",
        "    plt.close('all')\n",
        "    sns.set(font_scale = 2)\n",
        "    plt.figure(figsize=(10,10))\n",
        "    ax = plt.gca() #you first need to get the axis handle\n",
        "    ax.set_aspect(1)\n",
        "    sns.heatmap(Solution,linewidths=.8,cbar=False,linecolor='blue',\n",
        "                cmap='Reds',center=0.4,xticklabels=lx,yticklabels=ly)"
      ],
      "execution_count": null,
      "outputs": []
    },
    {
      "cell_type": "code",
      "metadata": {
        "colab": {
          "base_uri": "https://localhost:8080/",
          "height": 604
        },
        "id": "nj6r8tj749A7",
        "outputId": "0160cb48-7e0f-4002-da55-a9c3af08d80f"
      },
      "source": [
        "plot(grid)"
      ],
      "execution_count": null,
      "outputs": [
        {
          "output_type": "display_data",
          "data": {
            "image/png": "[encoded data removed]",
            "text/plain": [
              "<Figure size 720x720 with 1 Axes>"
            ]
          },
          "metadata": {}
        }
      ]
    }
  ]
}